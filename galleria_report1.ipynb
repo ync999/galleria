{
 "cells": [
  {
   "cell_type": "markdown",
   "metadata": {},
   "source": [
    "## **갤러리아 보고 (2022.10.06)**\n",
    "\n",
    "---\n",
    "\n",
    "### **분석 목적** \n",
    "* 타겟 고객군의 등급 상향 이동 여부 분류 데이터 분석 \n",
    "* 신규 고객 온보딩 분석 \n",
    "* 향후 우수고객 전환 관련 데이터 분석 (1번과 중복되는 것 같음)\n",
    "* 고객 이탈분석 및 이탈관련 index 화 (고객 프로파일링)\n",
    "* look-alike 타겟팅 (갤러리아 외 고객의 데이터 받을 수 있는가?)\n",
    "\n",
    "\n",
    "### **1. 갤러리아 데이터 불러오기**\n",
    "* 1-1) data read 하기 \n",
    "* 1-2) 데이터 결합하기\n",
    "\n",
    "### **2. EDA**\n",
    "\n",
    "* 2-1) feature engineering  \n",
    "\n",
    "### **3. 데이터 핸들링**\n",
    "\n",
    "* 3-1) Missing Imputation \n",
    "* 3-2) feature selection \n",
    "\n",
    "### **4. 모형 해석**\n",
    "* 3-1) Paramteric model\n",
    "* 3-2) Assumption check  \n",
    "\n",
    "### **4. Machine Laerning**\n",
    "* 4-1) Ensemble \n",
    "* 4-2) Neural Net \n",
    "* 4-3) Prediction Performance Result\n",
    "\n",
    "\n",
    "### **5. Reference** \n",
    "* ref \n",
    "\n",
    "\n",
    "----\n"
   ]
  },
  {
   "cell_type": "code",
   "execution_count": 32,
   "metadata": {},
   "outputs": [],
   "source": [
    "import os \n",
    "import sys \n",
    "import pandas as pd \n",
    "import numpy as np\n",
    "import matplotlib.pyplot as plt \n",
    "import re \n",
    "from pandas_profiling import ProfileReport\n",
    "import openpyxl\n",
    "import plotly.offline as plyo\n",
    "import cufflinks\n",
    "import warnings\n"
   ]
  },
  {
   "cell_type": "markdown",
   "metadata": {},
   "source": [
    "---\n",
    "* 분석 환경설정 \n"
   ]
  },
  {
   "cell_type": "code",
   "execution_count": 12,
   "metadata": {},
   "outputs": [],
   "source": [
    "# Jupyter 환경 설정 \n",
    "\n",
    "warnings.filterwarnings(action='ignore') \n",
    "plt.rcParams['font.family'] = 'AppleGothic'\n",
    "file_path = '/Users/dk/Downloads/scheme'\n",
    "os.chdir(file_path)\n"
   ]
  },
  {
   "cell_type": "markdown",
   "metadata": {},
   "source": [
    "---\n",
    "\n",
    "### **1. 갤러리아 데이터 불러오기**\n",
    "* 1-1) data read 하기 \n"
   ]
  },
  {
   "cell_type": "code",
   "execution_count": 34,
   "metadata": {},
   "outputs": [
    {
     "data": {
      "text/plain": [
       "['04. GM_IND_MEM_개인회원정보_20220922.xlsx',\n",
       " '12. PS_CUST_DAILY_MEMO_PSR 일지(일별 메모)_20220922.xlsx',\n",
       " '16. PS_SALE_PSR매출_20220922.xlsx',\n",
       " '97.CULT_TR부분접수결제환불.xlsx',\n",
       " '03. GM_GRADE_TARGET_회원 등급 최종 대상자_20220921 (PJ추출).xlsx',\n",
       " '13. PS_CUST_RESRV_PSR고객예약접수_20220922.xlsx',\n",
       " '96.CULT_CUST_MAST문화회원마스터.xlsx',\n",
       " '98.CULT_BABY유모차대여.xlsx',\n",
       " '99.VIP_WINE상반기 와인 구독 신청 회원번호.xlsx',\n",
       " '05. GM_REPRE_MEM_INFO_대표회원정보_20220922.xlsx',\n",
       " '15. PS_INVITE_REG_PSR 출입등록 관리_20220922.xlsx',\n",
       " '14. PS_FANCY_PSR고객취향_20220922.xlsx',\n",
       " '95.PSR 메모 텍스트마이닝 DATA.xlsx']"
      ]
     },
     "execution_count": 34,
     "metadata": {},
     "output_type": "execute_result"
    }
   ],
   "source": [
    "file_nm = [x for x in os.listdir() if 'xlsx' in x]\n",
    "file_nm "
   ]
  },
  {
   "cell_type": "markdown",
   "metadata": {},
   "source": [
    "* file name 정규화"
   ]
  },
  {
   "cell_type": "code",
   "execution_count": 26,
   "metadata": {},
   "outputs": [],
   "source": [
    "def reg_file_nm(file_nm):\n",
    "    \n",
    "    return re.sub(\n",
    "        '[_]+$',\n",
    "        '',\n",
    "        re.sub(\n",
    "            '[ㄱ-ㅎ가-힣0-9\\.\\(\\) ]',\n",
    "            '',\n",
    "            re.sub(\n",
    "                '.xlsx',\n",
    "                '',\n",
    "                file_nm\n",
    "            )   \n",
    "        )\n",
    "    ) "
   ]
  },
  {
   "cell_type": "markdown",
   "metadata": {},
   "source": [
    "* 파일 이름 핸들링 결과"
   ]
  },
  {
   "cell_type": "code",
   "execution_count": 35,
   "metadata": {},
   "outputs": [
    {
     "name": "stdout",
     "output_type": "stream",
     "text": [
      "GM_IND_MEM_개인회원정보\n",
      "----------------------------------------------------------------------------------------------------\n",
      "PS_CUST_DAILY_MEMO_PSR일지일별메모\n",
      "----------------------------------------------------------------------------------------------------\n",
      "PS_SALE_PSR매출\n",
      "----------------------------------------------------------------------------------------------------\n",
      "CULT_TR부분접수결제환불\n",
      "----------------------------------------------------------------------------------------------------\n",
      "GM_GRADE_TARGET_회원등급최종대상자_PJ추출\n",
      "----------------------------------------------------------------------------------------------------\n",
      "PS_CUST_RESRV_PSR고객예약접수\n",
      "----------------------------------------------------------------------------------------------------\n",
      "CULT_CUST_MAST문화회원마스터\n",
      "----------------------------------------------------------------------------------------------------\n",
      "CULT_BABY유모차대여\n",
      "----------------------------------------------------------------------------------------------------\n",
      "VIP_WINE상반기와인구독신청회원번호\n",
      "----------------------------------------------------------------------------------------------------\n",
      "GM_REPRE_MEM_INFO_대표회원정보\n",
      "----------------------------------------------------------------------------------------------------\n",
      "PS_INVITE_REG_PSR출입등록관리\n",
      "----------------------------------------------------------------------------------------------------\n",
      "PS_FANCY_PSR고객취향\n",
      "----------------------------------------------------------------------------------------------------\n",
      "PSR메모텍스트마이닝DATA\n",
      "----------------------------------------------------------------------------------------------------\n"
     ]
    }
   ],
   "source": [
    "for nm in file_nm: \n",
    "\tprint(reg_file_nm(nm))\n",
    "\tprint('-'*100)"
   ]
  },
  {
   "cell_type": "markdown",
   "metadata": {},
   "source": [
    "* 데이터 불러오기"
   ]
  },
  {
   "cell_type": "code",
   "execution_count": null,
   "metadata": {},
   "outputs": [],
   "source": [
    "galleria_db = {}\n",
    "\n",
    "for nm in file_nm:\n",
    "\n",
    "    xlsx_dt = pd.read_excel(\n",
    "        nm,\n",
    "        None\n",
    "    )\n",
    "    sheet_nm = list(xlsx_dt.keys())[0]\n",
    "\n",
    "    xlsx_df = pd.DataFrame(\n",
    "        xlsx_dt[sheet_nm]\n",
    "    )\n",
    "\n",
    "    galleria_db[reg_file_nm(nm)] = xlsx_df\n",
    "    \n",
    "    print(nm)\n",
    "    print('-'*100)\n",
    "    \n",
    "tbl_list = list(galleria_db.keys())"
   ]
  },
  {
   "cell_type": "markdown",
   "metadata": {},
   "source": [
    "---\n",
    "* 컬럼에 한글명 붙이기"
   ]
  },
  {
   "cell_type": "code",
   "execution_count": null,
   "metadata": {},
   "outputs": [],
   "source": []
  },
  {
   "cell_type": "code",
   "execution_count": null,
   "metadata": {},
   "outputs": [],
   "source": []
  },
  {
   "cell_type": "code",
   "execution_count": null,
   "metadata": {},
   "outputs": [],
   "source": []
  },
  {
   "cell_type": "code",
   "execution_count": null,
   "metadata": {},
   "outputs": [],
   "source": []
  },
  {
   "cell_type": "markdown",
   "metadata": {},
   "source": [
    "#### 개인회원 정보 테이블 (GM_IND_MEM) **base table**"
   ]
  },
  {
   "cell_type": "code",
   "execution_count": 47,
   "metadata": {},
   "outputs": [
    {
     "data": {
      "text/html": [
       "<div>\n",
       "<style scoped>\n",
       "    .dataframe tbody tr th:only-of-type {\n",
       "        vertical-align: middle;\n",
       "    }\n",
       "\n",
       "    .dataframe tbody tr th {\n",
       "        vertical-align: top;\n",
       "    }\n",
       "\n",
       "    .dataframe thead th {\n",
       "        text-align: right;\n",
       "    }\n",
       "</style>\n",
       "<table border=\"1\" class=\"dataframe\">\n",
       "  <thead>\n",
       "    <tr style=\"text-align: right;\">\n",
       "      <th></th>\n",
       "      <th>MEM_NO</th>\n",
       "      <th>CREDIT_CARD_FIRST_JOIN_YMD</th>\n",
       "      <th>MEMSHIP_JOIN_YMD</th>\n",
       "      <th>FOREINER_FLAG_CD</th>\n",
       "      <th>FOREINER_FLAG_NM</th>\n",
       "      <th>EMAIL_RECV_AGREE_YN</th>\n",
       "      <th>SMS_AGREE_YN</th>\n",
       "      <th>PARKJADE_CHOICE_RSN_CD</th>\n",
       "      <th>PARKJADE_CHOICE_RSN_NM</th>\n",
       "      <th>DM_RECV_AGREE_YN</th>\n",
       "      <th>TM_AGREE_YN</th>\n",
       "      <th>DM_ADDR</th>\n",
       "      <th>DM_OFFICE_NM</th>\n",
       "      <th>DM_DEPT_NM</th>\n",
       "      <th>INET_EMAIL_RECV_AGREE_YN</th>\n",
       "      <th>INET_SMS_RECV_AGREE_YN</th>\n",
       "    </tr>\n",
       "  </thead>\n",
       "  <tbody>\n",
       "    <tr>\n",
       "      <th>0</th>\n",
       "      <td>12367029</td>\n",
       "      <td>2017-12-02</td>\n",
       "      <td>NaN</td>\n",
       "      <td>1.0</td>\n",
       "      <td>내국인</td>\n",
       "      <td>N</td>\n",
       "      <td>Y</td>\n",
       "      <td>NaN</td>\n",
       "      <td>NaN</td>\n",
       "      <td>Y</td>\n",
       "      <td>N</td>\n",
       "      <td>NaN</td>\n",
       "      <td>NaN</td>\n",
       "      <td>NaN</td>\n",
       "      <td>N</td>\n",
       "      <td>Y</td>\n",
       "    </tr>\n",
       "    <tr>\n",
       "      <th>1</th>\n",
       "      <td>12376469</td>\n",
       "      <td>NaN</td>\n",
       "      <td>2017-12-31</td>\n",
       "      <td>4.0</td>\n",
       "      <td>외국인등록증</td>\n",
       "      <td>N</td>\n",
       "      <td>N</td>\n",
       "      <td>NaN</td>\n",
       "      <td>NaN</td>\n",
       "      <td>N</td>\n",
       "      <td>N</td>\n",
       "      <td>NaN</td>\n",
       "      <td>NaN</td>\n",
       "      <td>NaN</td>\n",
       "      <td>N</td>\n",
       "      <td>N</td>\n",
       "    </tr>\n",
       "    <tr>\n",
       "      <th>2</th>\n",
       "      <td>12377168</td>\n",
       "      <td>2019-11-09</td>\n",
       "      <td>2018-01-04</td>\n",
       "      <td>1.0</td>\n",
       "      <td>내국인</td>\n",
       "      <td>Y</td>\n",
       "      <td>Y</td>\n",
       "      <td>NaN</td>\n",
       "      <td>NaN</td>\n",
       "      <td>N</td>\n",
       "      <td>N</td>\n",
       "      <td>NaN</td>\n",
       "      <td>NaN</td>\n",
       "      <td>NaN</td>\n",
       "      <td>Y</td>\n",
       "      <td>Y</td>\n",
       "    </tr>\n",
       "    <tr>\n",
       "      <th>3</th>\n",
       "      <td>12378037</td>\n",
       "      <td>2018-01-07</td>\n",
       "      <td>NaN</td>\n",
       "      <td>1.0</td>\n",
       "      <td>내국인</td>\n",
       "      <td>Y</td>\n",
       "      <td>Y</td>\n",
       "      <td>NaN</td>\n",
       "      <td>NaN</td>\n",
       "      <td>Y</td>\n",
       "      <td>Y</td>\n",
       "      <td>NaN</td>\n",
       "      <td>NaN</td>\n",
       "      <td>NaN</td>\n",
       "      <td>Y</td>\n",
       "      <td>Y</td>\n",
       "    </tr>\n",
       "    <tr>\n",
       "      <th>4</th>\n",
       "      <td>12684462</td>\n",
       "      <td>2022-07-15</td>\n",
       "      <td>2020-01-16</td>\n",
       "      <td>1.0</td>\n",
       "      <td>내국인</td>\n",
       "      <td>N</td>\n",
       "      <td>N</td>\n",
       "      <td>NaN</td>\n",
       "      <td>NaN</td>\n",
       "      <td>N</td>\n",
       "      <td>N</td>\n",
       "      <td>NaN</td>\n",
       "      <td>NaN</td>\n",
       "      <td>NaN</td>\n",
       "      <td>N</td>\n",
       "      <td>N</td>\n",
       "    </tr>\n",
       "  </tbody>\n",
       "</table>\n",
       "</div>"
      ],
      "text/plain": [
       "     MEM_NO CREDIT_CARD_FIRST_JOIN_YMD MEMSHIP_JOIN_YMD  FOREINER_FLAG_CD  \\\n",
       "0  12367029                 2017-12-02              NaN               1.0   \n",
       "1  12376469                        NaN       2017-12-31               4.0   \n",
       "2  12377168                 2019-11-09       2018-01-04               1.0   \n",
       "3  12378037                 2018-01-07              NaN               1.0   \n",
       "4  12684462                 2022-07-15       2020-01-16               1.0   \n",
       "\n",
       "  FOREINER_FLAG_NM EMAIL_RECV_AGREE_YN SMS_AGREE_YN  PARKJADE_CHOICE_RSN_CD  \\\n",
       "0              내국인                   N            Y                     NaN   \n",
       "1           외국인등록증                   N            N                     NaN   \n",
       "2              내국인                   Y            Y                     NaN   \n",
       "3              내국인                   Y            Y                     NaN   \n",
       "4              내국인                   N            N                     NaN   \n",
       "\n",
       "  PARKJADE_CHOICE_RSN_NM DM_RECV_AGREE_YN TM_AGREE_YN DM_ADDR DM_OFFICE_NM  \\\n",
       "0                    NaN                Y           N     NaN          NaN   \n",
       "1                    NaN                N           N     NaN          NaN   \n",
       "2                    NaN                N           N     NaN          NaN   \n",
       "3                    NaN                Y           Y     NaN          NaN   \n",
       "4                    NaN                N           N     NaN          NaN   \n",
       "\n",
       "   DM_DEPT_NM INET_EMAIL_RECV_AGREE_YN INET_SMS_RECV_AGREE_YN  \n",
       "0         NaN                        N                      Y  \n",
       "1         NaN                        N                      N  \n",
       "2         NaN                        Y                      Y  \n",
       "3         NaN                        Y                      Y  \n",
       "4         NaN                        N                      N  "
      ]
     },
     "execution_count": 47,
     "metadata": {},
     "output_type": "execute_result"
    }
   ],
   "source": [
    "galleria_db['GM_IND_MEM_개인회원정보'].head()"
   ]
  },
  {
   "cell_type": "markdown",
   "metadata": {},
   "source": [
    "* Missing 이 80프로 이상이거나, 카테고리가 1가지인 컬럼 Drop 하기"
   ]
  },
  {
   "cell_type": "code",
   "execution_count": 57,
   "metadata": {},
   "outputs": [
    {
     "name": "stdout",
     "output_type": "stream",
     "text": [
      "<class 'pandas.core.frame.DataFrame'>\n",
      "RangeIndex: 168328 entries, 0 to 168327\n",
      "Data columns (total 16 columns):\n",
      " #   Column                      Non-Null Count   Dtype  \n",
      "---  ------                      --------------   -----  \n",
      " 0   MEM_NO                      168328 non-null  int64  \n",
      " 1   CREDIT_CARD_FIRST_JOIN_YMD  124889 non-null  object \n",
      " 2   MEMSHIP_JOIN_YMD            108218 non-null  object \n",
      " 3   FOREINER_FLAG_CD            159048 non-null  float64\n",
      " 4   FOREINER_FLAG_NM            159048 non-null  object \n",
      " 5   EMAIL_RECV_AGREE_YN         168326 non-null  object \n",
      " 6   SMS_AGREE_YN                168326 non-null  object \n",
      " 7   PARKJADE_CHOICE_RSN_CD      1186 non-null    float64\n",
      " 8   PARKJADE_CHOICE_RSN_NM      1186 non-null    object \n",
      " 9   DM_RECV_AGREE_YN            168295 non-null  object \n",
      " 10  TM_AGREE_YN                 168295 non-null  object \n",
      " 11  DM_ADDR                     5449 non-null    object \n",
      " 12  DM_OFFICE_NM                4 non-null       object \n",
      " 13  DM_DEPT_NM                  0 non-null       float64\n",
      " 14  INET_EMAIL_RECV_AGREE_YN    168328 non-null  object \n",
      " 15  INET_SMS_RECV_AGREE_YN      168328 non-null  object \n",
      "dtypes: float64(3), int64(1), object(12)\n",
      "memory usage: 20.5+ MB\n"
     ]
    }
   ],
   "source": [
    "galleria_db['GM_IND_MEM_개인회원정보'].info()\n"
   ]
  },
  {
   "cell_type": "code",
   "execution_count": 60,
   "metadata": {},
   "outputs": [
    {
     "data": {
      "text/html": [
       "<div>\n",
       "<style scoped>\n",
       "    .dataframe tbody tr th:only-of-type {\n",
       "        vertical-align: middle;\n",
       "    }\n",
       "\n",
       "    .dataframe tbody tr th {\n",
       "        vertical-align: top;\n",
       "    }\n",
       "\n",
       "    .dataframe thead th {\n",
       "        text-align: right;\n",
       "    }\n",
       "</style>\n",
       "<table border=\"1\" class=\"dataframe\">\n",
       "  <thead>\n",
       "    <tr style=\"text-align: right;\">\n",
       "      <th></th>\n",
       "      <th>MEM_NO</th>\n",
       "      <th>CREDIT_CARD_FIRST_JOIN_YMD</th>\n",
       "      <th>MEMSHIP_JOIN_YMD</th>\n",
       "      <th>FOREINER_FLAG_CD</th>\n",
       "      <th>FOREINER_FLAG_NM</th>\n",
       "      <th>EMAIL_RECV_AGREE_YN</th>\n",
       "      <th>SMS_AGREE_YN</th>\n",
       "      <th>DM_RECV_AGREE_YN</th>\n",
       "      <th>TM_AGREE_YN</th>\n",
       "      <th>INET_EMAIL_RECV_AGREE_YN</th>\n",
       "      <th>INET_SMS_RECV_AGREE_YN</th>\n",
       "    </tr>\n",
       "  </thead>\n",
       "  <tbody>\n",
       "    <tr>\n",
       "      <th>0</th>\n",
       "      <td>12367029</td>\n",
       "      <td>2017-12-02</td>\n",
       "      <td>NaN</td>\n",
       "      <td>1.0</td>\n",
       "      <td>내국인</td>\n",
       "      <td>N</td>\n",
       "      <td>Y</td>\n",
       "      <td>Y</td>\n",
       "      <td>N</td>\n",
       "      <td>N</td>\n",
       "      <td>Y</td>\n",
       "    </tr>\n",
       "    <tr>\n",
       "      <th>1</th>\n",
       "      <td>12376469</td>\n",
       "      <td>NaN</td>\n",
       "      <td>2017-12-31</td>\n",
       "      <td>4.0</td>\n",
       "      <td>외국인등록증</td>\n",
       "      <td>N</td>\n",
       "      <td>N</td>\n",
       "      <td>N</td>\n",
       "      <td>N</td>\n",
       "      <td>N</td>\n",
       "      <td>N</td>\n",
       "    </tr>\n",
       "    <tr>\n",
       "      <th>2</th>\n",
       "      <td>12377168</td>\n",
       "      <td>2019-11-09</td>\n",
       "      <td>2018-01-04</td>\n",
       "      <td>1.0</td>\n",
       "      <td>내국인</td>\n",
       "      <td>Y</td>\n",
       "      <td>Y</td>\n",
       "      <td>N</td>\n",
       "      <td>N</td>\n",
       "      <td>Y</td>\n",
       "      <td>Y</td>\n",
       "    </tr>\n",
       "    <tr>\n",
       "      <th>3</th>\n",
       "      <td>12378037</td>\n",
       "      <td>2018-01-07</td>\n",
       "      <td>NaN</td>\n",
       "      <td>1.0</td>\n",
       "      <td>내국인</td>\n",
       "      <td>Y</td>\n",
       "      <td>Y</td>\n",
       "      <td>Y</td>\n",
       "      <td>Y</td>\n",
       "      <td>Y</td>\n",
       "      <td>Y</td>\n",
       "    </tr>\n",
       "    <tr>\n",
       "      <th>4</th>\n",
       "      <td>12684462</td>\n",
       "      <td>2022-07-15</td>\n",
       "      <td>2020-01-16</td>\n",
       "      <td>1.0</td>\n",
       "      <td>내국인</td>\n",
       "      <td>N</td>\n",
       "      <td>N</td>\n",
       "      <td>N</td>\n",
       "      <td>N</td>\n",
       "      <td>N</td>\n",
       "      <td>N</td>\n",
       "    </tr>\n",
       "  </tbody>\n",
       "</table>\n",
       "</div>"
      ],
      "text/plain": [
       "     MEM_NO CREDIT_CARD_FIRST_JOIN_YMD MEMSHIP_JOIN_YMD  FOREINER_FLAG_CD  \\\n",
       "0  12367029                 2017-12-02              NaN               1.0   \n",
       "1  12376469                        NaN       2017-12-31               4.0   \n",
       "2  12377168                 2019-11-09       2018-01-04               1.0   \n",
       "3  12378037                 2018-01-07              NaN               1.0   \n",
       "4  12684462                 2022-07-15       2020-01-16               1.0   \n",
       "\n",
       "  FOREINER_FLAG_NM EMAIL_RECV_AGREE_YN SMS_AGREE_YN DM_RECV_AGREE_YN  \\\n",
       "0              내국인                   N            Y                Y   \n",
       "1           외국인등록증                   N            N                N   \n",
       "2              내국인                   Y            Y                N   \n",
       "3              내국인                   Y            Y                Y   \n",
       "4              내국인                   N            N                N   \n",
       "\n",
       "  TM_AGREE_YN INET_EMAIL_RECV_AGREE_YN INET_SMS_RECV_AGREE_YN  \n",
       "0           N                        N                      Y  \n",
       "1           N                        N                      N  \n",
       "2           N                        Y                      Y  \n",
       "3           Y                        Y                      Y  \n",
       "4           N                        N                      N  "
      ]
     },
     "execution_count": 60,
     "metadata": {},
     "output_type": "execute_result"
    }
   ],
   "source": [
    "# Drop col 선택 \n",
    "\n",
    "galleria_db['GM_IND_MEM_개인회원정보'].drop(\n",
    "\tcolumns = [\n",
    "\t\t'PARKJADE_CHOICE_RSN_CD',\n",
    "\t\t'PARKJADE_CHOICE_RSN_NM',\n",
    "\t\t'DM_ADDR',\n",
    "\t\t'DM_OFFICE_NM',\n",
    "\t\t'DM_DEPT_NM'\n",
    "\t],\n",
    "\tinplace = True\t\n",
    ")\n",
    "\n",
    "# 데이터 확인 \n",
    "galleria_db['GM_IND_MEM_개인회원정보'].head()\n",
    "\n",
    "\n"
   ]
  },
  {
   "cell_type": "code",
   "execution_count": null,
   "metadata": {},
   "outputs": [],
   "source": []
  },
  {
   "cell_type": "code",
   "execution_count": null,
   "metadata": {},
   "outputs": [],
   "source": []
  },
  {
   "cell_type": "code",
   "execution_count": null,
   "metadata": {},
   "outputs": [],
   "source": []
  },
  {
   "cell_type": "markdown",
   "metadata": {},
   "source": [
    "* 년도별 회원등급 최종 대상자 PJ 추출 (GM_GRADE_TARGET)"
   ]
  },
  {
   "cell_type": "code",
   "execution_count": null,
   "metadata": {},
   "outputs": [],
   "source": []
  },
  {
   "cell_type": "code",
   "execution_count": 48,
   "metadata": {},
   "outputs": [
    {
     "data": {
      "text/html": [
       "<div>\n",
       "<style scoped>\n",
       "    .dataframe tbody tr th:only-of-type {\n",
       "        vertical-align: middle;\n",
       "    }\n",
       "\n",
       "    .dataframe tbody tr th {\n",
       "        vertical-align: top;\n",
       "    }\n",
       "\n",
       "    .dataframe thead th {\n",
       "        text-align: right;\n",
       "    }\n",
       "</style>\n",
       "<table border=\"1\" class=\"dataframe\">\n",
       "  <thead>\n",
       "    <tr style=\"text-align: right;\">\n",
       "      <th></th>\n",
       "      <th>REPRE_MEM_NO</th>\n",
       "      <th>SALE_YY</th>\n",
       "      <th>CHOICE_RSN_CD</th>\n",
       "      <th>CHOICE_RSN_NM</th>\n",
       "      <th>TOT_NET_SALE_AMT</th>\n",
       "      <th>GRADE_LAR_CD</th>\n",
       "      <th>GRADE_LAR_NM</th>\n",
       "      <th>GRADE_SMALL_CD</th>\n",
       "      <th>GRADE_SMALL_NM</th>\n",
       "      <th>MGM_STORE_CD</th>\n",
       "      <th>MGM_STORE_NM</th>\n",
       "      <th>CONCIGE_VOCH_USE_CNT</th>\n",
       "      <th>PJ_APPLY_YN</th>\n",
       "    </tr>\n",
       "  </thead>\n",
       "  <tbody>\n",
       "    <tr>\n",
       "      <th>0</th>\n",
       "      <td>10138617</td>\n",
       "      <td>2017</td>\n",
       "      <td>1.0</td>\n",
       "      <td>매출기준</td>\n",
       "      <td>24976322.0</td>\n",
       "      <td>2</td>\n",
       "      <td>ParkJade</td>\n",
       "      <td>3</td>\n",
       "      <td>BLUE</td>\n",
       "      <td>1500.0</td>\n",
       "      <td>수원점</td>\n",
       "      <td>0</td>\n",
       "      <td>Y</td>\n",
       "    </tr>\n",
       "    <tr>\n",
       "      <th>1</th>\n",
       "      <td>10138629</td>\n",
       "      <td>2017</td>\n",
       "      <td>1.0</td>\n",
       "      <td>매출기준</td>\n",
       "      <td>43348725.0</td>\n",
       "      <td>2</td>\n",
       "      <td>ParkJade</td>\n",
       "      <td>2</td>\n",
       "      <td>WHITE</td>\n",
       "      <td>9100.0</td>\n",
       "      <td>명품관</td>\n",
       "      <td>0</td>\n",
       "      <td>Y</td>\n",
       "    </tr>\n",
       "    <tr>\n",
       "      <th>2</th>\n",
       "      <td>10138933</td>\n",
       "      <td>2017</td>\n",
       "      <td>1.0</td>\n",
       "      <td>매출기준</td>\n",
       "      <td>22522817.0</td>\n",
       "      <td>2</td>\n",
       "      <td>ParkJade</td>\n",
       "      <td>3</td>\n",
       "      <td>BLUE</td>\n",
       "      <td>2900.0</td>\n",
       "      <td>센터시티_BLUE</td>\n",
       "      <td>0</td>\n",
       "      <td>Y</td>\n",
       "    </tr>\n",
       "    <tr>\n",
       "      <th>3</th>\n",
       "      <td>10139084</td>\n",
       "      <td>2017</td>\n",
       "      <td>1.0</td>\n",
       "      <td>매출기준</td>\n",
       "      <td>31392979.0</td>\n",
       "      <td>2</td>\n",
       "      <td>ParkJade</td>\n",
       "      <td>3</td>\n",
       "      <td>BLUE</td>\n",
       "      <td>9100.0</td>\n",
       "      <td>명품관</td>\n",
       "      <td>0</td>\n",
       "      <td>Y</td>\n",
       "    </tr>\n",
       "    <tr>\n",
       "      <th>4</th>\n",
       "      <td>10139248</td>\n",
       "      <td>2017</td>\n",
       "      <td>1.0</td>\n",
       "      <td>매출기준</td>\n",
       "      <td>23455226.0</td>\n",
       "      <td>2</td>\n",
       "      <td>ParkJade</td>\n",
       "      <td>3</td>\n",
       "      <td>BLUE</td>\n",
       "      <td>5410.0</td>\n",
       "      <td>타임월드_BLUE</td>\n",
       "      <td>0</td>\n",
       "      <td>Y</td>\n",
       "    </tr>\n",
       "  </tbody>\n",
       "</table>\n",
       "</div>"
      ],
      "text/plain": [
       "   REPRE_MEM_NO  SALE_YY  CHOICE_RSN_CD CHOICE_RSN_NM  TOT_NET_SALE_AMT  \\\n",
       "0      10138617     2017            1.0          매출기준        24976322.0   \n",
       "1      10138629     2017            1.0          매출기준        43348725.0   \n",
       "2      10138933     2017            1.0          매출기준        22522817.0   \n",
       "3      10139084     2017            1.0          매출기준        31392979.0   \n",
       "4      10139248     2017            1.0          매출기준        23455226.0   \n",
       "\n",
       "   GRADE_LAR_CD GRADE_LAR_NM  GRADE_SMALL_CD GRADE_SMALL_NM  MGM_STORE_CD  \\\n",
       "0             2     ParkJade               3           BLUE        1500.0   \n",
       "1             2     ParkJade               2          WHITE        9100.0   \n",
       "2             2     ParkJade               3           BLUE        2900.0   \n",
       "3             2     ParkJade               3           BLUE        9100.0   \n",
       "4             2     ParkJade               3           BLUE        5410.0   \n",
       "\n",
       "  MGM_STORE_NM  CONCIGE_VOCH_USE_CNT PJ_APPLY_YN  \n",
       "0          수원점                     0           Y  \n",
       "1          명품관                     0           Y  \n",
       "2    센터시티_BLUE                     0           Y  \n",
       "3          명품관                     0           Y  \n",
       "4    타임월드_BLUE                     0           Y  "
      ]
     },
     "execution_count": 48,
     "metadata": {},
     "output_type": "execute_result"
    }
   ],
   "source": [
    "galleria_db['GM_GRADE_TARGET_회원등급최종대상자_PJ추출'].head()"
   ]
  },
  {
   "cell_type": "code",
   "execution_count": 54,
   "metadata": {},
   "outputs": [
    {
     "name": "stdout",
     "output_type": "stream",
     "text": [
      "개인회원 정보와 회원등급대상자 회원 ID 교집합 개수 : 28516\n"
     ]
    }
   ],
   "source": [
    "s1 = set(galleria_db['GM_IND_MEM_개인회원정보'].MEM_NO) \n",
    "s2 = set(galleria_db['GM_GRADE_TARGET_회원등급최종대상자_PJ추출'].REPRE_MEM_NO)\n",
    "\n",
    "print('개인회원 정보와 회원등급대상자 회원 ID 교집합 개수 :' ,len(s1 & s2))\n",
    "print('신용카드 가입일과 매출년도는 별개로 봐도 무방한가?')"
   ]
  },
  {
   "cell_type": "markdown",
   "metadata": {},
   "source": []
  },
  {
   "cell_type": "markdown",
   "metadata": {},
   "source": [
    "---\n",
    "* 데이터 결합 키 확인"
   ]
  },
  {
   "cell_type": "code",
   "execution_count": null,
   "metadata": {},
   "outputs": [],
   "source": []
  },
  {
   "cell_type": "code",
   "execution_count": null,
   "metadata": {},
   "outputs": [],
   "source": []
  },
  {
   "cell_type": "markdown",
   "metadata": {},
   "source": [
    "---\n",
    "* 데이터 결합 "
   ]
  },
  {
   "cell_type": "code",
   "execution_count": null,
   "metadata": {},
   "outputs": [],
   "source": []
  },
  {
   "cell_type": "code",
   "execution_count": null,
   "metadata": {},
   "outputs": [],
   "source": []
  },
  {
   "cell_type": "markdown",
   "metadata": {},
   "source": [
    "---\n",
    "* 데이터 결합 결과 "
   ]
  },
  {
   "cell_type": "code",
   "execution_count": null,
   "metadata": {},
   "outputs": [],
   "source": []
  },
  {
   "cell_type": "code",
   "execution_count": null,
   "metadata": {},
   "outputs": [],
   "source": []
  },
  {
   "cell_type": "code",
   "execution_count": 40,
   "metadata": {},
   "outputs": [
    {
     "data": {
      "text/plain": [
       "['GM_IND_MEM_개인회원정보',\n",
       " 'PS_CUST_DAILY_MEMO_PSR일지일별메모',\n",
       " 'PS_SALE_PSR매출',\n",
       " 'CULT_TR부분접수결제환불',\n",
       " 'GM_GRADE_TARGET_회원등급최종대상자_PJ추출',\n",
       " 'PS_CUST_RESRV_PSR고객예약접수',\n",
       " 'CULT_CUST_MAST문화회원마스터',\n",
       " 'CULT_BABY유모차대여',\n",
       " 'VIP_WINE상반기와인구독신청회원번호',\n",
       " 'GM_REPRE_MEM_INFO_대표회원정보',\n",
       " 'PS_INVITE_REG_PSR출입등록관리',\n",
       " 'PS_FANCY_PSR고객취향',\n",
       " 'PSR메모텍스트마이닝DATA']"
      ]
     },
     "execution_count": 40,
     "metadata": {},
     "output_type": "execute_result"
    }
   ],
   "source": [
    "tbl_list"
   ]
  },
  {
   "cell_type": "code",
   "execution_count": null,
   "metadata": {},
   "outputs": [],
   "source": []
  },
  {
   "cell_type": "code",
   "execution_count": null,
   "metadata": {},
   "outputs": [],
   "source": []
  }
 ],
 "metadata": {
  "kernelspec": {
   "display_name": "Python 3.9.12 64-bit",
   "language": "python",
   "name": "python3"
  },
  "language_info": {
   "codemirror_mode": {
    "name": "ipython",
    "version": 3
   },
   "file_extension": ".py",
   "mimetype": "text/x-python",
   "name": "python",
   "nbconvert_exporter": "python",
   "pygments_lexer": "ipython3",
   "version": "3.9.12"
  },
  "orig_nbformat": 4,
  "vscode": {
   "interpreter": {
    "hash": "aee8b7b246df8f9039afb4144a1f6fd8d2ca17a180786b69acc140d282b71a49"
   }
  }
 },
 "nbformat": 4,
 "nbformat_minor": 2
}
